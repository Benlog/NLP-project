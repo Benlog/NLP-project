{
 "cells": [
  {
   "cell_type": "code",
   "execution_count": 1,
   "metadata": {},
   "outputs": [],
   "source": [
    "%load_ext autoreload\n",
    "\n",
    "%autoreload 2"
   ]
  },
  {
   "cell_type": "code",
   "execution_count": 5,
   "metadata": {},
   "outputs": [],
   "source": [
    "import torch\n",
    "import loader"
   ]
  },
  {
   "cell_type": "code",
   "execution_count": 2,
   "metadata": {},
   "outputs": [],
   "source": []
  },
  {
   "cell_type": "code",
   "execution_count": 6,
   "metadata": {},
   "outputs": [
    {
     "output_type": "execute_result",
     "data": {
      "text/plain": "True"
     },
     "metadata": {},
     "execution_count": 6
    }
   ],
   "source": [
    "torch.cuda.is_available()"
   ]
  },
  {
   "cell_type": "code",
   "execution_count": 7,
   "metadata": {},
   "outputs": [],
   "source": [
    "#device = torch.device(\"cuda\" if torch.cuda.is_available() else \"cpu\")"
   ]
  },
  {
   "cell_type": "code",
   "execution_count": 3,
   "metadata": {},
   "outputs": [],
   "source": [
    "articles_it = loader.load_json_iter(\"../Data/french_articles\")"
   ]
  },
  {
   "cell_type": "code",
   "execution_count": 4,
   "metadata": {},
   "outputs": [
    {
     "output_type": "stream",
     "name": "stdout",
     "text": "Il tente d'incendier sa femme : elle est indemne, lui est gravement brûlé 18h31, le 01 octobre 2016 A Le mari désespéré a tenté d'incendier sa femme.@ TIZIANA FABI / AFP 0 partage Dans le but d'incendier sa femme, un homme en instance de divorce a aspergé l'appartement conjugal d'essence. Mais ce sont ses propres vêtements qui ont pris feu. \nLe retour de flamme ne s'est pas fait attendre. Un homme s'est grièvement brûlé dans le nord de l'Italie en tentant d'incendier son épouse qui voulait le quitter, rapportent samedi des médias locaux . \nVendredi en fin d'après-midi, une violente dispute a éclaté entre les deux conjoints quadragénaires en instance de divorce, tous deux Albanais résidant à Gorgonzola, dans l'agglomération de Milan. Ne supportant pas l'idée de la séparation, le mari s'est saisi d'un bidon d'essence pour asperger l'appartement et son épouse, avant d'allumer son briquet. \nDes brûlures au 3e degré. Mais ce sont ses propres vêtements, arrosés involontairement dans son élan, qui ont pris feu. Son épouse est parvenue à sauter à temps par le balcon de l'appartement, situé au premier étage, suivie de peu par son mari. Elle est indemne, mais lui est hospitalisé dans un état grave, souffrant de brûlures au 3e degré . Aucun de leurs trois enfants, âgés de 23, 22 et 14 ans, n'était présent au moment des faits. Sur le même sujet :\n"
    }
   ],
   "source": [
    "print(next(articles_it)[\"text\"])"
   ]
  },
  {
   "cell_type": "code",
   "execution_count": null,
   "metadata": {},
   "outputs": [],
   "source": []
  }
 ],
 "metadata": {
  "language_info": {
   "name": "python",
   "codemirror_mode": {
    "name": "ipython",
    "version": 3
   },
   "version": "3.6.10-final"
  },
  "orig_nbformat": 2,
  "file_extension": ".py",
  "mimetype": "text/x-python",
  "name": "python",
  "npconvert_exporter": "python",
  "pygments_lexer": "ipython3",
  "version": 3,
  "kernelspec": {
   "name": "python361064bitprogramdatavirtualenv8f088959d5994d4a8ff16532fbe14efd",
   "display_name": "Python 3.6.10 64-bit ('ProgramData': virtualenv)"
  }
 },
 "nbformat": 4,
 "nbformat_minor": 2
}