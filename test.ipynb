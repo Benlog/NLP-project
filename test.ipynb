{
 "cells": [
  {
   "cell_type": "code",
   "execution_count": 1,
   "metadata": {},
   "outputs": [],
   "source": [
    "%load_ext autoreload\n",
    "\n",
    "%autoreload 2"
   ]
  },
  {
   "cell_type": "code",
   "execution_count": 2,
   "metadata": {},
   "outputs": [],
   "source": [
    "import torch\n",
    "from src import utils"
   ]
  },
  {
   "cell_type": "code",
   "execution_count": 3,
   "metadata": {},
   "outputs": [
    {
     "data": {
      "text/plain": [
       "True"
      ]
     },
     "execution_count": 3,
     "metadata": {},
     "output_type": "execute_result"
    }
   ],
   "source": [
    "torch.cuda.is_available()"
   ]
  },
  {
   "cell_type": "code",
   "execution_count": 4,
   "metadata": {},
   "outputs": [],
   "source": [
    "#device = torch.device(\"cuda\" if torch.cuda.is_available() else \"cpu\")"
   ]
  },
  {
   "cell_type": "code",
   "execution_count": 5,
   "metadata": {},
   "outputs": [],
   "source": [
    "from pathlib import Path\n",
    "from os import getenv\n",
    "from dotenv import load_dotenv"
   ]
  },
  {
   "cell_type": "code",
   "execution_count": 6,
   "metadata": {},
   "outputs": [],
   "source": [
    "data = Path(getenv(\"DATA_PATH\", \"data\"))"
   ]
  },
  {
   "cell_type": "code",
   "execution_count": 7,
   "metadata": {},
   "outputs": [],
   "source": [
    "articles_it = utils.load_json_iter(data / Path(\"french_articles\"))"
   ]
  },
  {
   "cell_type": "code",
   "execution_count": 8,
   "metadata": {},
   "outputs": [
    {
     "name": "stdout",
     "output_type": "stream",
     "text": [
      "Il tente d'incendier sa femme : elle est indemne, lui est gravement brûlé 18h31, le 01 octobre 2016 A Le mari désespéré a tenté d'incendier sa femme.@ TIZIANA FABI / AFP 0 partage Dans le but d'incendier sa femme, un homme en instance de divorce a aspergé l'appartement conjugal d'essence. Mais ce sont ses propres vêtements qui ont pris feu. \n",
      "Le retour de flamme ne s'est pas fait attendre. Un homme s'est grièvement brûlé dans le nord de l'Italie en tentant d'incendier son épouse qui voulait le quitter, rapportent samedi des médias locaux . \n",
      "Vendredi en fin d'après-midi, une violente dispute a éclaté entre les deux conjoints quadragénaires en instance de divorce, tous deux Albanais résidant à Gorgonzola, dans l'agglomération de Milan. Ne supportant pas l'idée de la séparation, le mari s'est saisi d'un bidon d'essence pour asperger l'appartement et son épouse, avant d'allumer son briquet. \n",
      "Des brûlures au 3e degré. Mais ce sont ses propres vêtements, arrosés involontairement dans son élan, qui ont pris feu. Son épouse est parvenue à sauter à temps par le balcon de l'appartement, situé au premier étage, suivie de peu par son mari. Elle est indemne, mais lui est hospitalisé dans un état grave, souffrant de brûlures au 3e degré . Aucun de leurs trois enfants, âgés de 23, 22 et 14 ans, n'était présent au moment des faits. Sur le même sujet :\n"
     ]
    }
   ],
   "source": [
    "print(next(articles_it)[\"text\"])"
   ]
  },
  {
   "cell_type": "code",
   "execution_count": null,
   "metadata": {},
   "outputs": [],
   "source": []
  }
 ],
 "metadata": {
  "file_extension": ".py",
  "interpreter": {
   "hash": "eec60e0a5bbc3c80f38a6fed76198b4c8cf2a246aea06de3002d475c2f7ebe11"
  },
  "kernelspec": {
   "display_name": "Python 3.6.10 64-bit ('ProgramData': virtualenv)",
   "language": "python",
   "name": "python3"
  },
  "language_info": {
   "codemirror_mode": {
    "name": "ipython",
    "version": 3
   },
   "file_extension": ".py",
   "mimetype": "text/x-python",
   "name": "python",
   "nbconvert_exporter": "python",
   "pygments_lexer": "ipython3",
   "version": "3.9.10"
  },
  "mimetype": "text/x-python",
  "name": "python",
  "npconvert_exporter": "python",
  "orig_nbformat": 2,
  "pygments_lexer": "ipython3",
  "version": 3
 },
 "nbformat": 4,
 "nbformat_minor": 2
}
